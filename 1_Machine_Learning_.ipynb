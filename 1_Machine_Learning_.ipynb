{
  "nbformat": 4,
  "nbformat_minor": 0,
  "metadata": {
    "colab": {
      "name": "1. Machine Learning .ipynb",
      "provenance": [],
      "authorship_tag": "ABX9TyPAMg36pr3BxBPb3VY3afGG",
      "include_colab_link": true
    },
    "kernelspec": {
      "name": "python3",
      "display_name": "Python 3"
    },
    "language_info": {
      "name": "python"
    }
  },
  "cells": [
    {
      "cell_type": "markdown",
      "metadata": {
        "id": "view-in-github",
        "colab_type": "text"
      },
      "source": [
        "<a href=\"https://colab.research.google.com/github/PraneshUlleri/MachineLearning2022/blob/main/1_Machine_Learning_.ipynb\" target=\"_parent\"><img src=\"https://colab.research.google.com/assets/colab-badge.svg\" alt=\"Open In Colab\"/></a>"
      ]
    },
    {
      "cell_type": "markdown",
      "source": [
        "# [Getting started with Machine Learning](https://www.geeksforgeeks.org/getting-started-machine-learning/)\n"
      ],
      "metadata": {
        "id": "Kk9q8HpbQuv5"
      }
    },
    {
      "cell_type": "markdown",
      "source": [
        "# **Supervised** **learning**\n",
        "\n",
        "Model or algorithm is presented with example inputs and their desired outputs and then finding patterns and connections between the input and the output.\n",
        "\n",
        "\n",
        "1.   Classification\n",
        "2.   Prediction/Regression\n",
        "\n",
        "**Classification :** Inputs are divided into two or more classes, and the learner must produce a model that assigns unseen inputs to one or more (multi-label classification) of these classes and predicting whether or not something belongs to a particular class.\n",
        "\n",
        "**Regression:** It is also a supervised learning problem, that predicts a numeric value and outputs are continuous rather than discrete.\n",
        "\n"
      ],
      "metadata": {
        "id": "sRog1pawRKMP"
      }
    },
    {
      "cell_type": "markdown",
      "source": [
        "# **Unsupervised learning**\n",
        "\n",
        "No labels are given to the learning algorithm, leaving it on its own to find structure in its input.\n",
        "\n",
        "\n",
        "\n",
        "1.   Clustering\n",
        "2.   High Dimension Visualization\n",
        "3.   Generative Models\n",
        "\n",
        "**Clustering:** Here, a set of inputs is to be divided into groups. Unlike in classification, the groups are not known beforehand, making this typically an unsupervised task. \n",
        "\n",
        "**Density estimation: **The task is to find the distribution of inputs in some space.\n",
        "\n",
        "**Dimensionality reduction:** It simplifies inputs by mapping them into a lower-dimensional space. Topic modeling is a related problem, where a program is given a list of human language documents and is tasked to find out which documents cover similar topics."
      ],
      "metadata": {
        "id": "XfiFdGmsRZ95"
      }
    },
    {
      "cell_type": "markdown",
      "source": [
        "# **Semi-supervised learning:** \n",
        "\n",
        " Problems where you have a large amount of input data and only some of the data is labeled, are called semi-supervised learning problems"
      ],
      "metadata": {
        "id": "x0VQuz_MSD3V"
      }
    },
    {
      "cell_type": "markdown",
      "source": [
        "# **Reinforcement learning:**\n",
        "\n",
        "A computer program interacts with a dynamic environment in which it must perform a certain goal (such as driving a vehicle or playing a game against an opponent)."
      ],
      "metadata": {
        "id": "crK0l6qKSLwA"
      }
    }
  ]
}